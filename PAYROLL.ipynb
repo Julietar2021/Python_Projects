{
 "cells": [
  {
   "cell_type": "code",
   "execution_count": 1,
   "id": "8f22d8ba",
   "metadata": {},
   "outputs": [],
   "source": [
    "import pandas as pd\n",
    "import numpy as np"
   ]
  },
  {
   "cell_type": "markdown",
   "id": "0560dd61",
   "metadata": {},
   "source": []
  },
  {
   "cell_type": "code",
   "execution_count": 5,
   "id": "f11cd78f",
   "metadata": {},
   "outputs": [],
   "source": [
    "# load data\n",
    "df=pd.read_excel('Excel Dashboard.xlsx', sheet_name='Employees')"
   ]
  },
  {
   "cell_type": "code",
   "execution_count": 35,
   "id": "5985a84d",
   "metadata": {},
   "outputs": [
    {
     "data": {
      "text/plain": [
       "pandas.core.frame.DataFrame"
      ]
     },
     "execution_count": 35,
     "metadata": {},
     "output_type": "execute_result"
    }
   ],
   "source": [
    "# get the data type\n",
    "type(df)"
   ]
  },
  {
   "cell_type": "code",
   "execution_count": 6,
   "id": "a0bf663b",
   "metadata": {},
   "outputs": [
    {
     "data": {
      "text/plain": [
       "FULL NAMES                    object\n",
       "Department                    object\n",
       "SALARY                         int64\n",
       "Departmental Bonus             int64\n",
       "Managers                      object\n",
       "ID                             int64\n",
       "Inventory ID                   int64\n",
       "Hire Date             datetime64[ns]\n",
       "dtype: object"
      ]
     },
     "execution_count": 6,
     "metadata": {},
     "output_type": "execute_result"
    }
   ],
   "source": [
    "# check the data types\n",
    "df.dtypes"
   ]
  },
  {
   "cell_type": "code",
   "execution_count": 14,
   "id": "893b8a3d",
   "metadata": {},
   "outputs": [],
   "source": [
    "# convert salary and departmental bonus to float data type\n",
    "df=df.astype({'SALARY':'float','Departmental Bonus':'float'})"
   ]
  },
  {
   "cell_type": "code",
   "execution_count": 15,
   "id": "cd42a016",
   "metadata": {},
   "outputs": [
    {
     "data": {
      "text/plain": [
       "FULL NAMES                    object\n",
       "Department                    object\n",
       "SALARY                       float64\n",
       "Departmental Bonus           float64\n",
       "Managers                      object\n",
       "ID                             int64\n",
       "Inventory ID                   int64\n",
       "Hire Date             datetime64[ns]\n",
       "dtype: object"
      ]
     },
     "execution_count": 15,
     "metadata": {},
     "output_type": "execute_result"
    }
   ],
   "source": [
    "df.dtypes"
   ]
  },
  {
   "cell_type": "code",
   "execution_count": 21,
   "id": "e7f53af3",
   "metadata": {},
   "outputs": [
    {
     "data": {
      "text/html": [
       "<div>\n",
       "<style scoped>\n",
       "    .dataframe tbody tr th:only-of-type {\n",
       "        vertical-align: middle;\n",
       "    }\n",
       "\n",
       "    .dataframe tbody tr th {\n",
       "        vertical-align: top;\n",
       "    }\n",
       "\n",
       "    .dataframe thead th {\n",
       "        text-align: right;\n",
       "    }\n",
       "</style>\n",
       "<table border=\"1\" class=\"dataframe\">\n",
       "  <thead>\n",
       "    <tr style=\"text-align: right;\">\n",
       "      <th></th>\n",
       "      <th>FULL NAMES</th>\n",
       "      <th>Department</th>\n",
       "      <th>SALARY</th>\n",
       "      <th>Departmental Bonus</th>\n",
       "      <th>Managers</th>\n",
       "      <th>ID</th>\n",
       "      <th>Inventory ID</th>\n",
       "      <th>Hire Date</th>\n",
       "    </tr>\n",
       "  </thead>\n",
       "  <tbody>\n",
       "    <tr>\n",
       "      <th>0</th>\n",
       "      <td>André Fonseca</td>\n",
       "      <td>Production</td>\n",
       "      <td>3500.0</td>\n",
       "      <td>350.0</td>\n",
       "      <td>Felix Kern</td>\n",
       "      <td>1</td>\n",
       "      <td>10</td>\n",
       "      <td>1997-10-23</td>\n",
       "    </tr>\n",
       "    <tr>\n",
       "      <th>1</th>\n",
       "      <td>Ann devon</td>\n",
       "      <td>Engineer</td>\n",
       "      <td>4003.0</td>\n",
       "      <td>250.0</td>\n",
       "      <td>Ishmail Ahmed</td>\n",
       "      <td>2</td>\n",
       "      <td>11</td>\n",
       "      <td>1997-11-05</td>\n",
       "    </tr>\n",
       "    <tr>\n",
       "      <th>2</th>\n",
       "      <td>Annette Roulet</td>\n",
       "      <td>IT</td>\n",
       "      <td>3000.0</td>\n",
       "      <td>200.0</td>\n",
       "      <td>Brian Hart</td>\n",
       "      <td>3</td>\n",
       "      <td>12</td>\n",
       "      <td>1997-11-06</td>\n",
       "    </tr>\n",
       "    <tr>\n",
       "      <th>3</th>\n",
       "      <td>aria cruz</td>\n",
       "      <td>Production</td>\n",
       "      <td>5000.0</td>\n",
       "      <td>350.0</td>\n",
       "      <td>Felix Kern</td>\n",
       "      <td>4</td>\n",
       "      <td>13</td>\n",
       "      <td>1997-11-26</td>\n",
       "    </tr>\n",
       "    <tr>\n",
       "      <th>4</th>\n",
       "      <td>Becky David</td>\n",
       "      <td>Production</td>\n",
       "      <td>2000.0</td>\n",
       "      <td>350.0</td>\n",
       "      <td>Felix Kern</td>\n",
       "      <td>5</td>\n",
       "      <td>14</td>\n",
       "      <td>1998-01-12</td>\n",
       "    </tr>\n",
       "  </tbody>\n",
       "</table>\n",
       "</div>"
      ],
      "text/plain": [
       "       FULL NAMES  Department  SALARY  Departmental Bonus       Managers  ID  \\\n",
       "0   André Fonseca  Production  3500.0               350.0     Felix Kern   1   \n",
       "1       Ann devon    Engineer  4003.0               250.0  Ishmail Ahmed   2   \n",
       "2  Annette Roulet          IT  3000.0               200.0     Brian Hart   3   \n",
       "3       aria cruz  Production  5000.0               350.0     Felix Kern   4   \n",
       "4     Becky David  Production  2000.0               350.0     Felix Kern   5   \n",
       "\n",
       "   Inventory ID  Hire Date  \n",
       "0            10 1997-10-23  \n",
       "1            11 1997-11-05  \n",
       "2            12 1997-11-06  \n",
       "3            13 1997-11-26  \n",
       "4            14 1998-01-12  "
      ]
     },
     "execution_count": 21,
     "metadata": {},
     "output_type": "execute_result"
    }
   ],
   "source": [
    "#check the first 5 rows\n",
    "df.head(5)"
   ]
  },
  {
   "cell_type": "code",
   "execution_count": 17,
   "id": "2fbf5eb3",
   "metadata": {},
   "outputs": [
    {
     "data": {
      "text/plain": [
       "0      Production\n",
       "1        Engineer\n",
       "2              IT\n",
       "3      Production\n",
       "4      Production\n",
       "          ...    \n",
       "128    Production\n",
       "129    Production\n",
       "130            IT\n",
       "131    Production\n",
       "132            IT\n",
       "Name: Department, Length: 133, dtype: object"
      ]
     },
     "execution_count": 17,
     "metadata": {},
     "output_type": "execute_result"
    }
   ],
   "source": [
    "# check only Department cologne\n",
    "df['Department']"
   ]
  },
  {
   "cell_type": "code",
   "execution_count": 22,
   "id": "d1adb070",
   "metadata": {},
   "outputs": [
    {
     "data": {
      "text/html": [
       "<div>\n",
       "<style scoped>\n",
       "    .dataframe tbody tr th:only-of-type {\n",
       "        vertical-align: middle;\n",
       "    }\n",
       "\n",
       "    .dataframe tbody tr th {\n",
       "        vertical-align: top;\n",
       "    }\n",
       "\n",
       "    .dataframe thead th {\n",
       "        text-align: right;\n",
       "    }\n",
       "</style>\n",
       "<table border=\"1\" class=\"dataframe\">\n",
       "  <thead>\n",
       "    <tr style=\"text-align: right;\">\n",
       "      <th></th>\n",
       "      <th>FULL NAMES</th>\n",
       "      <th>Department</th>\n",
       "      <th>SALARY</th>\n",
       "      <th>Departmental Bonus</th>\n",
       "      <th>Managers</th>\n",
       "      <th>ID</th>\n",
       "      <th>Inventory ID</th>\n",
       "      <th>Hire Date</th>\n",
       "    </tr>\n",
       "  </thead>\n",
       "  <tbody>\n",
       "    <tr>\n",
       "      <th>128</th>\n",
       "      <td>Victoria Ashworth</td>\n",
       "      <td>Production</td>\n",
       "      <td>4000.0</td>\n",
       "      <td>350.0</td>\n",
       "      <td>Tina Turner</td>\n",
       "      <td>129</td>\n",
       "      <td>138</td>\n",
       "      <td>1996-10-16</td>\n",
       "    </tr>\n",
       "    <tr>\n",
       "      <th>129</th>\n",
       "      <td>yang wang</td>\n",
       "      <td>Production</td>\n",
       "      <td>4000.0</td>\n",
       "      <td>350.0</td>\n",
       "      <td>Nikola Market</td>\n",
       "      <td>130</td>\n",
       "      <td>139</td>\n",
       "      <td>1996-10-29</td>\n",
       "    </tr>\n",
       "    <tr>\n",
       "      <th>130</th>\n",
       "      <td>Yetunde Oladele</td>\n",
       "      <td>IT</td>\n",
       "      <td>2000.0</td>\n",
       "      <td>200.0</td>\n",
       "      <td>Felix Kern</td>\n",
       "      <td>131</td>\n",
       "      <td>140</td>\n",
       "      <td>1996-11-25</td>\n",
       "    </tr>\n",
       "    <tr>\n",
       "      <th>131</th>\n",
       "      <td>Yoshi Latimer</td>\n",
       "      <td>Production</td>\n",
       "      <td>5000.0</td>\n",
       "      <td>350.0</td>\n",
       "      <td>Nikola Market</td>\n",
       "      <td>132</td>\n",
       "      <td>141</td>\n",
       "      <td>1997-03-11</td>\n",
       "    </tr>\n",
       "    <tr>\n",
       "      <th>132</th>\n",
       "      <td>Yoshi Tannamuri</td>\n",
       "      <td>IT</td>\n",
       "      <td>2200.0</td>\n",
       "      <td>200.0</td>\n",
       "      <td>Ishmail Ahmed</td>\n",
       "      <td>133</td>\n",
       "      <td>142</td>\n",
       "      <td>1997-04-18</td>\n",
       "    </tr>\n",
       "  </tbody>\n",
       "</table>\n",
       "</div>"
      ],
      "text/plain": [
       "            FULL NAMES  Department  SALARY  Departmental Bonus       Managers  \\\n",
       "128  Victoria Ashworth  Production  4000.0               350.0    Tina Turner   \n",
       "129          yang wang  Production  4000.0               350.0  Nikola Market   \n",
       "130    Yetunde Oladele          IT  2000.0               200.0     Felix Kern   \n",
       "131      Yoshi Latimer  Production  5000.0               350.0  Nikola Market   \n",
       "132    Yoshi Tannamuri          IT  2200.0               200.0  Ishmail Ahmed   \n",
       "\n",
       "      ID  Inventory ID  Hire Date  \n",
       "128  129           138 1996-10-16  \n",
       "129  130           139 1996-10-29  \n",
       "130  131           140 1996-11-25  \n",
       "131  132           141 1997-03-11  \n",
       "132  133           142 1997-04-18  "
      ]
     },
     "execution_count": 22,
     "metadata": {},
     "output_type": "execute_result"
    }
   ],
   "source": [
    "#check the bottom 5 rows\n",
    "df.tail(5)"
   ]
  },
  {
   "cell_type": "code",
   "execution_count": 25,
   "id": "26204e2d",
   "metadata": {},
   "outputs": [
    {
     "data": {
      "text/plain": [
       "(133, 8)"
      ]
     },
     "execution_count": 25,
     "metadata": {},
     "output_type": "execute_result"
    }
   ],
   "source": [
    "# get the shape attribute to know the numbers of column and rows\n",
    "df.shape"
   ]
  },
  {
   "cell_type": "code",
   "execution_count": 28,
   "id": "75b0af58",
   "metadata": {},
   "outputs": [
    {
     "data": {
      "text/plain": [
       "Index(['FULL NAMES', 'Department', 'SALARY', 'Departmental Bonus', 'Managers',\n",
       "       'ID', 'Inventory ID', 'Hire Date'],\n",
       "      dtype='object')"
      ]
     },
     "execution_count": 28,
     "metadata": {},
     "output_type": "execute_result"
    }
   ],
   "source": [
    "# get the column names\n",
    "df.columns"
   ]
  },
  {
   "cell_type": "code",
   "execution_count": 29,
   "id": "01b1cf7b",
   "metadata": {},
   "outputs": [
    {
     "data": {
      "text/plain": [
       "RangeIndex(start=0, stop=133, step=1)"
      ]
     },
     "execution_count": 29,
     "metadata": {},
     "output_type": "execute_result"
    }
   ],
   "source": [
    "# get the rows\n",
    "df.index\n"
   ]
  },
  {
   "cell_type": "code",
   "execution_count": 30,
   "id": "ea281c2f",
   "metadata": {},
   "outputs": [
    {
     "data": {
      "text/plain": [
       "0      Production\n",
       "1        Engineer\n",
       "2              IT\n",
       "3      Production\n",
       "4      Production\n",
       "          ...    \n",
       "128    Production\n",
       "129    Production\n",
       "130            IT\n",
       "131    Production\n",
       "132            IT\n",
       "Name: Department, Length: 133, dtype: object"
      ]
     },
     "execution_count": 30,
     "metadata": {},
     "output_type": "execute_result"
    }
   ],
   "source": [
    "# get only Department column\n",
    "df['Department']"
   ]
  },
  {
   "cell_type": "code",
   "execution_count": 23,
   "id": "adea1089",
   "metadata": {},
   "outputs": [
    {
     "data": {
      "text/plain": [
       "Department\n",
       "IT            32\n",
       "Production    28\n",
       "Sales         24\n",
       "Engineer      19\n",
       "HR            12\n",
       "Finance       10\n",
       "Marketing      8\n",
       "dtype: int64"
      ]
     },
     "execution_count": 23,
     "metadata": {},
     "output_type": "execute_result"
    }
   ],
   "source": [
    "# count the unique deaprtment to know the department with the highest numbers of employees\n",
    "df.value_counts('Department')"
   ]
  },
  {
   "cell_type": "code",
   "execution_count": 31,
   "id": "bf9e8570",
   "metadata": {},
   "outputs": [
    {
     "data": {
      "text/html": [
       "<div>\n",
       "<style scoped>\n",
       "    .dataframe tbody tr th:only-of-type {\n",
       "        vertical-align: middle;\n",
       "    }\n",
       "\n",
       "    .dataframe tbody tr th {\n",
       "        vertical-align: top;\n",
       "    }\n",
       "\n",
       "    .dataframe thead th {\n",
       "        text-align: right;\n",
       "    }\n",
       "</style>\n",
       "<table border=\"1\" class=\"dataframe\">\n",
       "  <thead>\n",
       "    <tr style=\"text-align: right;\">\n",
       "      <th></th>\n",
       "      <th>SALARY</th>\n",
       "      <th>Departmental Bonus</th>\n",
       "      <th>ID</th>\n",
       "      <th>Inventory ID</th>\n",
       "    </tr>\n",
       "  </thead>\n",
       "  <tbody>\n",
       "    <tr>\n",
       "      <th>count</th>\n",
       "      <td>133.000000</td>\n",
       "      <td>133.000000</td>\n",
       "      <td>133.00000</td>\n",
       "      <td>133.00000</td>\n",
       "    </tr>\n",
       "    <tr>\n",
       "      <th>mean</th>\n",
       "      <td>3376.165414</td>\n",
       "      <td>309.398496</td>\n",
       "      <td>67.00000</td>\n",
       "      <td>76.00000</td>\n",
       "    </tr>\n",
       "    <tr>\n",
       "      <th>std</th>\n",
       "      <td>813.151996</td>\n",
       "      <td>130.869814</td>\n",
       "      <td>38.53786</td>\n",
       "      <td>38.53786</td>\n",
       "    </tr>\n",
       "    <tr>\n",
       "      <th>min</th>\n",
       "      <td>2000.000000</td>\n",
       "      <td>100.000000</td>\n",
       "      <td>1.00000</td>\n",
       "      <td>10.00000</td>\n",
       "    </tr>\n",
       "    <tr>\n",
       "      <th>25%</th>\n",
       "      <td>3000.000000</td>\n",
       "      <td>200.000000</td>\n",
       "      <td>34.00000</td>\n",
       "      <td>43.00000</td>\n",
       "    </tr>\n",
       "    <tr>\n",
       "      <th>50%</th>\n",
       "      <td>3500.000000</td>\n",
       "      <td>250.000000</td>\n",
       "      <td>67.00000</td>\n",
       "      <td>76.00000</td>\n",
       "    </tr>\n",
       "    <tr>\n",
       "      <th>75%</th>\n",
       "      <td>4000.000000</td>\n",
       "      <td>350.000000</td>\n",
       "      <td>100.00000</td>\n",
       "      <td>109.00000</td>\n",
       "    </tr>\n",
       "    <tr>\n",
       "      <th>max</th>\n",
       "      <td>5000.000000</td>\n",
       "      <td>550.000000</td>\n",
       "      <td>133.00000</td>\n",
       "      <td>142.00000</td>\n",
       "    </tr>\n",
       "  </tbody>\n",
       "</table>\n",
       "</div>"
      ],
      "text/plain": [
       "            SALARY  Departmental Bonus         ID  Inventory ID\n",
       "count   133.000000          133.000000  133.00000     133.00000\n",
       "mean   3376.165414          309.398496   67.00000      76.00000\n",
       "std     813.151996          130.869814   38.53786      38.53786\n",
       "min    2000.000000          100.000000    1.00000      10.00000\n",
       "25%    3000.000000          200.000000   34.00000      43.00000\n",
       "50%    3500.000000          250.000000   67.00000      76.00000\n",
       "75%    4000.000000          350.000000  100.00000     109.00000\n",
       "max    5000.000000          550.000000  133.00000     142.00000"
      ]
     },
     "execution_count": 31,
     "metadata": {},
     "output_type": "execute_result"
    }
   ],
   "source": [
    "# get the dataframe description\n",
    "df.describe()"
   ]
  },
  {
   "cell_type": "code",
   "execution_count": 32,
   "id": "b829f88d",
   "metadata": {},
   "outputs": [],
   "source": [
    "# change salary and bonus datatype back to int\n",
    "df=df.astype({'SALARY':'int64','Departmental Bonus':'int64'})"
   ]
  },
  {
   "cell_type": "code",
   "execution_count": 33,
   "id": "c358807a",
   "metadata": {},
   "outputs": [
    {
     "data": {
      "text/plain": [
       "FULL NAMES                    object\n",
       "Department                    object\n",
       "SALARY                         int64\n",
       "Departmental Bonus             int64\n",
       "Managers                      object\n",
       "ID                             int64\n",
       "Inventory ID                   int64\n",
       "Hire Date             datetime64[ns]\n",
       "dtype: object"
      ]
     },
     "execution_count": 33,
     "metadata": {},
     "output_type": "execute_result"
    }
   ],
   "source": [
    "df.dtypes"
   ]
  },
  {
   "cell_type": "code",
   "execution_count": 37,
   "id": "f7ceefed",
   "metadata": {},
   "outputs": [
    {
     "data": {
      "text/plain": [
       "pandas.core.series.Series"
      ]
     },
     "execution_count": 37,
     "metadata": {},
     "output_type": "execute_result"
    }
   ],
   "source": [
    "# get the data type of a column\n",
    "type(df['Department'])"
   ]
  },
  {
   "cell_type": "code",
   "execution_count": null,
   "id": "1605be08",
   "metadata": {},
   "outputs": [],
   "source": []
  },
  {
   "cell_type": "code",
   "execution_count": 42,
   "id": "eed0468e",
   "metadata": {},
   "outputs": [
    {
     "data": {
      "text/html": [
       "<div>\n",
       "<style scoped>\n",
       "    .dataframe tbody tr th:only-of-type {\n",
       "        vertical-align: middle;\n",
       "    }\n",
       "\n",
       "    .dataframe tbody tr th {\n",
       "        vertical-align: top;\n",
       "    }\n",
       "\n",
       "    .dataframe thead th {\n",
       "        text-align: right;\n",
       "    }\n",
       "</style>\n",
       "<table border=\"1\" class=\"dataframe\">\n",
       "  <thead>\n",
       "    <tr style=\"text-align: right;\">\n",
       "      <th></th>\n",
       "      <th>FULL NAMES</th>\n",
       "      <th>DEPARTMENT</th>\n",
       "      <th>SALARY</th>\n",
       "      <th>DEPARTMENTAL BONUS</th>\n",
       "      <th>MANAGERS</th>\n",
       "      <th>ID</th>\n",
       "      <th>INVENTORY ID</th>\n",
       "      <th>HIRE DATE</th>\n",
       "    </tr>\n",
       "  </thead>\n",
       "  <tbody>\n",
       "    <tr>\n",
       "      <th>0</th>\n",
       "      <td>André Fonseca</td>\n",
       "      <td>Production</td>\n",
       "      <td>3500</td>\n",
       "      <td>350</td>\n",
       "      <td>Felix Kern</td>\n",
       "      <td>1</td>\n",
       "      <td>10</td>\n",
       "      <td>1997-10-23</td>\n",
       "    </tr>\n",
       "    <tr>\n",
       "      <th>1</th>\n",
       "      <td>Ann devon</td>\n",
       "      <td>Engineer</td>\n",
       "      <td>4003</td>\n",
       "      <td>250</td>\n",
       "      <td>Ishmail Ahmed</td>\n",
       "      <td>2</td>\n",
       "      <td>11</td>\n",
       "      <td>1997-11-05</td>\n",
       "    </tr>\n",
       "  </tbody>\n",
       "</table>\n",
       "</div>"
      ],
      "text/plain": [
       "      FULL NAMES  DEPARTMENT  SALARY  DEPARTMENTAL BONUS       MANAGERS  ID  \\\n",
       "0  André Fonseca  Production    3500                 350     Felix Kern   1   \n",
       "1      Ann devon    Engineer    4003                 250  Ishmail Ahmed   2   \n",
       "\n",
       "   INVENTORY ID  HIRE DATE  \n",
       "0            10 1997-10-23  \n",
       "1            11 1997-11-05  "
      ]
     },
     "execution_count": 42,
     "metadata": {},
     "output_type": "execute_result"
    }
   ],
   "source": [
    "# change the column to upper case\n",
    "df.columns=df.columns.str.upper()\n",
    "df.head(2)"
   ]
  },
  {
   "cell_type": "code",
   "execution_count": 48,
   "id": "80406597",
   "metadata": {},
   "outputs": [
    {
     "data": {
      "text/html": [
       "<div>\n",
       "<style scoped>\n",
       "    .dataframe tbody tr th:only-of-type {\n",
       "        vertical-align: middle;\n",
       "    }\n",
       "\n",
       "    .dataframe tbody tr th {\n",
       "        vertical-align: top;\n",
       "    }\n",
       "\n",
       "    .dataframe thead th {\n",
       "        text-align: right;\n",
       "    }\n",
       "</style>\n",
       "<table border=\"1\" class=\"dataframe\">\n",
       "  <thead>\n",
       "    <tr style=\"text-align: right;\">\n",
       "      <th></th>\n",
       "      <th>FULL NAMES</th>\n",
       "      <th>DEPARTMENT</th>\n",
       "      <th>SALARY</th>\n",
       "      <th>DEPARTMENTAL BONUS</th>\n",
       "      <th>MANAGERS</th>\n",
       "      <th>ID</th>\n",
       "      <th>INVENTORY ID</th>\n",
       "      <th>START DATE</th>\n",
       "    </tr>\n",
       "  </thead>\n",
       "  <tbody>\n",
       "    <tr>\n",
       "      <th>0</th>\n",
       "      <td>André Fonseca</td>\n",
       "      <td>Production</td>\n",
       "      <td>3500</td>\n",
       "      <td>350</td>\n",
       "      <td>Felix Kern</td>\n",
       "      <td>1</td>\n",
       "      <td>10</td>\n",
       "      <td>1997-10-23</td>\n",
       "    </tr>\n",
       "    <tr>\n",
       "      <th>1</th>\n",
       "      <td>Ann devon</td>\n",
       "      <td>Engineer</td>\n",
       "      <td>4003</td>\n",
       "      <td>250</td>\n",
       "      <td>Ishmail Ahmed</td>\n",
       "      <td>2</td>\n",
       "      <td>11</td>\n",
       "      <td>1997-11-05</td>\n",
       "    </tr>\n",
       "  </tbody>\n",
       "</table>\n",
       "</div>"
      ],
      "text/plain": [
       "      FULL NAMES  DEPARTMENT  SALARY  DEPARTMENTAL BONUS       MANAGERS  ID  \\\n",
       "0  André Fonseca  Production    3500                 350     Felix Kern   1   \n",
       "1      Ann devon    Engineer    4003                 250  Ishmail Ahmed   2   \n",
       "\n",
       "   INVENTORY ID START DATE  \n",
       "0            10 1997-10-23  \n",
       "1            11 1997-11-05  "
      ]
     },
     "execution_count": 48,
     "metadata": {},
     "output_type": "execute_result"
    }
   ],
   "source": [
    "# rename Hire Date to Start Date\n",
    "df=df.rename(columns=({'HIRE DATE':'START DATE'}))\n",
    "df.head(2)"
   ]
  },
  {
   "cell_type": "code",
   "execution_count": 54,
   "id": "96bbb01b",
   "metadata": {},
   "outputs": [
    {
     "data": {
      "text/html": [
       "<div>\n",
       "<style scoped>\n",
       "    .dataframe tbody tr th:only-of-type {\n",
       "        vertical-align: middle;\n",
       "    }\n",
       "\n",
       "    .dataframe tbody tr th {\n",
       "        vertical-align: top;\n",
       "    }\n",
       "\n",
       "    .dataframe thead th {\n",
       "        text-align: right;\n",
       "    }\n",
       "</style>\n",
       "<table border=\"1\" class=\"dataframe\">\n",
       "  <thead>\n",
       "    <tr style=\"text-align: right;\">\n",
       "      <th></th>\n",
       "      <th>FULL NAMES</th>\n",
       "      <th>DEPARTMENT</th>\n",
       "      <th>SALARY</th>\n",
       "      <th>DEPARTMENTAL BONUS</th>\n",
       "      <th>MANAGERS</th>\n",
       "      <th>ID</th>\n",
       "      <th>INVENTORY ID</th>\n",
       "      <th>START DATE</th>\n",
       "    </tr>\n",
       "  </thead>\n",
       "  <tbody>\n",
       "    <tr>\n",
       "      <th>0</th>\n",
       "      <td>André Fonseca</td>\n",
       "      <td>Production</td>\n",
       "      <td>3500</td>\n",
       "      <td>350</td>\n",
       "      <td>Felix Kern</td>\n",
       "      <td>1</td>\n",
       "      <td>10</td>\n",
       "      <td>1997-10-23</td>\n",
       "    </tr>\n",
       "  </tbody>\n",
       "</table>\n",
       "</div>"
      ],
      "text/plain": [
       "      FULL NAMES  DEPARTMENT  SALARY  DEPARTMENTAL BONUS    MANAGERS  ID  \\\n",
       "0  André Fonseca  Production    3500                 350  Felix Kern   1   \n",
       "\n",
       "   INVENTORY ID START DATE  \n",
       "0            10 1997-10-23  "
      ]
     },
     "execution_count": 54,
     "metadata": {},
     "output_type": "execute_result"
    }
   ],
   "source": [
    "df.head(1)"
   ]
  },
  {
   "cell_type": "code",
   "execution_count": 77,
   "id": "dc41e2e1",
   "metadata": {},
   "outputs": [],
   "source": [
    "# add a new column, name it Company and enter JulieChan AG inside every row\n",
    "df['COMPANY'] = 'Julie Chan AG'"
   ]
  },
  {
   "cell_type": "code",
   "execution_count": 78,
   "id": "0f78b8bf",
   "metadata": {},
   "outputs": [
    {
     "data": {
      "text/html": [
       "<div>\n",
       "<style scoped>\n",
       "    .dataframe tbody tr th:only-of-type {\n",
       "        vertical-align: middle;\n",
       "    }\n",
       "\n",
       "    .dataframe tbody tr th {\n",
       "        vertical-align: top;\n",
       "    }\n",
       "\n",
       "    .dataframe thead th {\n",
       "        text-align: right;\n",
       "    }\n",
       "</style>\n",
       "<table border=\"1\" class=\"dataframe\">\n",
       "  <thead>\n",
       "    <tr style=\"text-align: right;\">\n",
       "      <th></th>\n",
       "      <th>FULL NAMES</th>\n",
       "      <th>DEPARTMENT</th>\n",
       "      <th>SALARY</th>\n",
       "      <th>DEPARTMENTAL BONUS</th>\n",
       "      <th>MANAGERS</th>\n",
       "      <th>ID</th>\n",
       "      <th>INVENTORY ID</th>\n",
       "      <th>START DATE</th>\n",
       "      <th>Company</th>\n",
       "      <th>Employee_id</th>\n",
       "      <th>COMPNAY</th>\n",
       "      <th>COMPANY</th>\n",
       "    </tr>\n",
       "  </thead>\n",
       "  <tbody>\n",
       "    <tr>\n",
       "      <th>0</th>\n",
       "      <td>André Fonseca</td>\n",
       "      <td>Production</td>\n",
       "      <td>3500</td>\n",
       "      <td>350</td>\n",
       "      <td>Felix Kern</td>\n",
       "      <td>1</td>\n",
       "      <td>10</td>\n",
       "      <td>1997-10-23</td>\n",
       "      <td>Julie Chan AG</td>\n",
       "      <td>Emp_id</td>\n",
       "      <td>Julie Chan AG</td>\n",
       "      <td>Julie Chan AG</td>\n",
       "    </tr>\n",
       "    <tr>\n",
       "      <th>1</th>\n",
       "      <td>Ann devon</td>\n",
       "      <td>Engineer</td>\n",
       "      <td>4003</td>\n",
       "      <td>250</td>\n",
       "      <td>Ishmail Ahmed</td>\n",
       "      <td>2</td>\n",
       "      <td>11</td>\n",
       "      <td>1997-11-05</td>\n",
       "      <td>Julie Chan AG</td>\n",
       "      <td>Emp_id</td>\n",
       "      <td>Julie Chan AG</td>\n",
       "      <td>Julie Chan AG</td>\n",
       "    </tr>\n",
       "    <tr>\n",
       "      <th>2</th>\n",
       "      <td>Annette Roulet</td>\n",
       "      <td>IT</td>\n",
       "      <td>3000</td>\n",
       "      <td>200</td>\n",
       "      <td>Brian Hart</td>\n",
       "      <td>3</td>\n",
       "      <td>12</td>\n",
       "      <td>1997-11-06</td>\n",
       "      <td>Julie Chan AG</td>\n",
       "      <td>Emp_id</td>\n",
       "      <td>Julie Chan AG</td>\n",
       "      <td>Julie Chan AG</td>\n",
       "    </tr>\n",
       "    <tr>\n",
       "      <th>3</th>\n",
       "      <td>aria cruz</td>\n",
       "      <td>Production</td>\n",
       "      <td>5000</td>\n",
       "      <td>350</td>\n",
       "      <td>Felix Kern</td>\n",
       "      <td>4</td>\n",
       "      <td>13</td>\n",
       "      <td>1997-11-26</td>\n",
       "      <td>Julie Chan AG</td>\n",
       "      <td>Emp_id</td>\n",
       "      <td>Julie Chan AG</td>\n",
       "      <td>Julie Chan AG</td>\n",
       "    </tr>\n",
       "    <tr>\n",
       "      <th>4</th>\n",
       "      <td>Becky David</td>\n",
       "      <td>Production</td>\n",
       "      <td>2000</td>\n",
       "      <td>350</td>\n",
       "      <td>Felix Kern</td>\n",
       "      <td>5</td>\n",
       "      <td>14</td>\n",
       "      <td>1998-01-12</td>\n",
       "      <td>Julie Chan AG</td>\n",
       "      <td>Emp_id</td>\n",
       "      <td>Julie Chan AG</td>\n",
       "      <td>Julie Chan AG</td>\n",
       "    </tr>\n",
       "  </tbody>\n",
       "</table>\n",
       "</div>"
      ],
      "text/plain": [
       "       FULL NAMES  DEPARTMENT  SALARY  DEPARTMENTAL BONUS       MANAGERS  ID  \\\n",
       "0   André Fonseca  Production    3500                 350     Felix Kern   1   \n",
       "1       Ann devon    Engineer    4003                 250  Ishmail Ahmed   2   \n",
       "2  Annette Roulet          IT    3000                 200     Brian Hart   3   \n",
       "3       aria cruz  Production    5000                 350     Felix Kern   4   \n",
       "4     Becky David  Production    2000                 350     Felix Kern   5   \n",
       "\n",
       "   INVENTORY ID START DATE        Company Employee_id        COMPNAY  \\\n",
       "0            10 1997-10-23  Julie Chan AG      Emp_id  Julie Chan AG   \n",
       "1            11 1997-11-05  Julie Chan AG      Emp_id  Julie Chan AG   \n",
       "2            12 1997-11-06  Julie Chan AG      Emp_id  Julie Chan AG   \n",
       "3            13 1997-11-26  Julie Chan AG      Emp_id  Julie Chan AG   \n",
       "4            14 1998-01-12  Julie Chan AG      Emp_id  Julie Chan AG   \n",
       "\n",
       "         COMPANY  \n",
       "0  Julie Chan AG  \n",
       "1  Julie Chan AG  \n",
       "2  Julie Chan AG  \n",
       "3  Julie Chan AG  \n",
       "4  Julie Chan AG  "
      ]
     },
     "execution_count": 78,
     "metadata": {},
     "output_type": "execute_result"
    }
   ],
   "source": [
    "df.head(5)"
   ]
  },
  {
   "cell_type": "code",
   "execution_count": 75,
   "id": "0cf49f5d",
   "metadata": {},
   "outputs": [],
   "source": [
    "# create a new column and name it employee id. generate id from 1 to 133 and also make the new column the index\n",
    "Emp_id=np.arange(0,133)"
   ]
  },
  {
   "cell_type": "code",
   "execution_count": 79,
   "id": "1fa5c26a",
   "metadata": {},
   "outputs": [],
   "source": [
    "df['EMP_ID']=Emp_id"
   ]
  },
  {
   "cell_type": "code",
   "execution_count": null,
   "id": "32d8d11f",
   "metadata": {},
   "outputs": [],
   "source": [
    "# Delete Employee_id\tCOMPNAY column\n",
    "df.drop(columns=['COMPNAY', 'Employee_id'], inplace=True)"
   ]
  },
  {
   "cell_type": "code",
   "execution_count": 93,
   "id": "b080fcfa",
   "metadata": {},
   "outputs": [
    {
     "data": {
      "text/html": [
       "<div>\n",
       "<style scoped>\n",
       "    .dataframe tbody tr th:only-of-type {\n",
       "        vertical-align: middle;\n",
       "    }\n",
       "\n",
       "    .dataframe tbody tr th {\n",
       "        vertical-align: top;\n",
       "    }\n",
       "\n",
       "    .dataframe thead th {\n",
       "        text-align: right;\n",
       "    }\n",
       "</style>\n",
       "<table border=\"1\" class=\"dataframe\">\n",
       "  <thead>\n",
       "    <tr style=\"text-align: right;\">\n",
       "      <th></th>\n",
       "      <th>FULL NAMES</th>\n",
       "      <th>DEPARTMENT</th>\n",
       "      <th>SALARY</th>\n",
       "      <th>DEPARTMENTAL BONUS</th>\n",
       "      <th>MANAGERS</th>\n",
       "      <th>ID</th>\n",
       "      <th>INVENTORY ID</th>\n",
       "      <th>START DATE</th>\n",
       "      <th>COMPANY</th>\n",
       "      <th>EMP_ID</th>\n",
       "    </tr>\n",
       "  </thead>\n",
       "  <tbody>\n",
       "    <tr>\n",
       "      <th>0</th>\n",
       "      <td>André Fonseca</td>\n",
       "      <td>Production</td>\n",
       "      <td>3500</td>\n",
       "      <td>350</td>\n",
       "      <td>Felix Kern</td>\n",
       "      <td>1</td>\n",
       "      <td>10</td>\n",
       "      <td>1997-10-23</td>\n",
       "      <td>Julie Chan AG</td>\n",
       "      <td>0</td>\n",
       "    </tr>\n",
       "    <tr>\n",
       "      <th>1</th>\n",
       "      <td>Ann devon</td>\n",
       "      <td>Engineer</td>\n",
       "      <td>4003</td>\n",
       "      <td>250</td>\n",
       "      <td>Ishmail Ahmed</td>\n",
       "      <td>2</td>\n",
       "      <td>11</td>\n",
       "      <td>1997-11-05</td>\n",
       "      <td>Julie Chan AG</td>\n",
       "      <td>1</td>\n",
       "    </tr>\n",
       "  </tbody>\n",
       "</table>\n",
       "</div>"
      ],
      "text/plain": [
       "      FULL NAMES  DEPARTMENT  SALARY  DEPARTMENTAL BONUS       MANAGERS  ID  \\\n",
       "0  André Fonseca  Production    3500                 350     Felix Kern   1   \n",
       "1      Ann devon    Engineer    4003                 250  Ishmail Ahmed   2   \n",
       "\n",
       "   INVENTORY ID START DATE        COMPANY  EMP_ID  \n",
       "0            10 1997-10-23  Julie Chan AG       0  \n",
       "1            11 1997-11-05  Julie Chan AG       1  "
      ]
     },
     "execution_count": 93,
     "metadata": {},
     "output_type": "execute_result"
    }
   ],
   "source": [
    "df.head(2)"
   ]
  },
  {
   "cell_type": "code",
   "execution_count": 110,
   "id": "6e4eece1",
   "metadata": {},
   "outputs": [
    {
     "data": {
      "text/plain": [
       "449030"
      ]
     },
     "execution_count": 110,
     "metadata": {},
     "output_type": "execute_result"
    }
   ],
   "source": [
    "# calculate the total sum of salary paid to all workers\n",
    "sum(df['SALARY'])"
   ]
  },
  {
   "cell_type": "code",
   "execution_count": 95,
   "id": "5fbbb80e",
   "metadata": {},
   "outputs": [
    {
     "data": {
      "text/plain": [
       "449030"
      ]
     },
     "execution_count": 95,
     "metadata": {},
     "output_type": "execute_result"
    }
   ],
   "source": [
    "df['SALARY'].sum()"
   ]
  },
  {
   "cell_type": "code",
   "execution_count": 100,
   "id": "7e80f69a",
   "metadata": {},
   "outputs": [],
   "source": [
    "# now create a new column and name it Total Salary. Add the salary and bonus to get the values for the new column\n",
    "df['Total Income'] = df['SALARY'] + df['DEPARTMENTAL BONUS']"
   ]
  },
  {
   "cell_type": "code",
   "execution_count": 102,
   "id": "e69533c1",
   "metadata": {},
   "outputs": [
    {
     "data": {
      "text/html": [
       "<div>\n",
       "<style scoped>\n",
       "    .dataframe tbody tr th:only-of-type {\n",
       "        vertical-align: middle;\n",
       "    }\n",
       "\n",
       "    .dataframe tbody tr th {\n",
       "        vertical-align: top;\n",
       "    }\n",
       "\n",
       "    .dataframe thead th {\n",
       "        text-align: right;\n",
       "    }\n",
       "</style>\n",
       "<table border=\"1\" class=\"dataframe\">\n",
       "  <thead>\n",
       "    <tr style=\"text-align: right;\">\n",
       "      <th></th>\n",
       "      <th>FULL NAMES</th>\n",
       "      <th>DEPARTMENT</th>\n",
       "      <th>SALARY</th>\n",
       "      <th>DEPARTMENTAL BONUS</th>\n",
       "      <th>MANAGERS</th>\n",
       "      <th>ID</th>\n",
       "      <th>INVENTORY ID</th>\n",
       "      <th>START DATE</th>\n",
       "      <th>COMPANY</th>\n",
       "      <th>EMP_ID</th>\n",
       "      <th>Total Income</th>\n",
       "    </tr>\n",
       "  </thead>\n",
       "  <tbody>\n",
       "    <tr>\n",
       "      <th>0</th>\n",
       "      <td>André Fonseca</td>\n",
       "      <td>Production</td>\n",
       "      <td>3500</td>\n",
       "      <td>350</td>\n",
       "      <td>Felix Kern</td>\n",
       "      <td>1</td>\n",
       "      <td>10</td>\n",
       "      <td>1997-10-23</td>\n",
       "      <td>Julie Chan AG</td>\n",
       "      <td>0</td>\n",
       "      <td>3850</td>\n",
       "    </tr>\n",
       "    <tr>\n",
       "      <th>1</th>\n",
       "      <td>Ann devon</td>\n",
       "      <td>Engineer</td>\n",
       "      <td>4003</td>\n",
       "      <td>250</td>\n",
       "      <td>Ishmail Ahmed</td>\n",
       "      <td>2</td>\n",
       "      <td>11</td>\n",
       "      <td>1997-11-05</td>\n",
       "      <td>Julie Chan AG</td>\n",
       "      <td>1</td>\n",
       "      <td>4253</td>\n",
       "    </tr>\n",
       "  </tbody>\n",
       "</table>\n",
       "</div>"
      ],
      "text/plain": [
       "      FULL NAMES  DEPARTMENT  SALARY  DEPARTMENTAL BONUS       MANAGERS  ID  \\\n",
       "0  André Fonseca  Production    3500                 350     Felix Kern   1   \n",
       "1      Ann devon    Engineer    4003                 250  Ishmail Ahmed   2   \n",
       "\n",
       "   INVENTORY ID START DATE        COMPANY  EMP_ID  Total Income  \n",
       "0            10 1997-10-23  Julie Chan AG       0          3850  \n",
       "1            11 1997-11-05  Julie Chan AG       1          4253  "
      ]
     },
     "execution_count": 102,
     "metadata": {},
     "output_type": "execute_result"
    }
   ],
   "source": [
    "df.head(2)"
   ]
  },
  {
   "cell_type": "code",
   "execution_count": 104,
   "id": "7f2e1bd7",
   "metadata": {},
   "outputs": [],
   "source": [
    "# now create a new column and name it Average Salary. use the salary and bonus to get the values for the new column\n",
    "df['Average Income'] = df['SALARY'] + df['DEPARTMENTAL BONUS'] / 2"
   ]
  },
  {
   "cell_type": "code",
   "execution_count": 106,
   "id": "639b43b2",
   "metadata": {},
   "outputs": [
    {
     "data": {
      "text/html": [
       "<div>\n",
       "<style scoped>\n",
       "    .dataframe tbody tr th:only-of-type {\n",
       "        vertical-align: middle;\n",
       "    }\n",
       "\n",
       "    .dataframe tbody tr th {\n",
       "        vertical-align: top;\n",
       "    }\n",
       "\n",
       "    .dataframe thead th {\n",
       "        text-align: right;\n",
       "    }\n",
       "</style>\n",
       "<table border=\"1\" class=\"dataframe\">\n",
       "  <thead>\n",
       "    <tr style=\"text-align: right;\">\n",
       "      <th></th>\n",
       "      <th>FULL NAMES</th>\n",
       "      <th>DEPARTMENT</th>\n",
       "      <th>SALARY</th>\n",
       "      <th>DEPARTMENTAL BONUS</th>\n",
       "      <th>MANAGERS</th>\n",
       "      <th>ID</th>\n",
       "      <th>INVENTORY ID</th>\n",
       "      <th>START DATE</th>\n",
       "      <th>COMPANY</th>\n",
       "      <th>EMP_ID</th>\n",
       "      <th>Total Income</th>\n",
       "      <th>Average Income</th>\n",
       "    </tr>\n",
       "  </thead>\n",
       "  <tbody>\n",
       "    <tr>\n",
       "      <th>0</th>\n",
       "      <td>André Fonseca</td>\n",
       "      <td>Production</td>\n",
       "      <td>3500</td>\n",
       "      <td>350</td>\n",
       "      <td>Felix Kern</td>\n",
       "      <td>1</td>\n",
       "      <td>10</td>\n",
       "      <td>1997-10-23</td>\n",
       "      <td>Julie Chan AG</td>\n",
       "      <td>0</td>\n",
       "      <td>3850</td>\n",
       "      <td>3675.0</td>\n",
       "    </tr>\n",
       "    <tr>\n",
       "      <th>1</th>\n",
       "      <td>Ann devon</td>\n",
       "      <td>Engineer</td>\n",
       "      <td>4003</td>\n",
       "      <td>250</td>\n",
       "      <td>Ishmail Ahmed</td>\n",
       "      <td>2</td>\n",
       "      <td>11</td>\n",
       "      <td>1997-11-05</td>\n",
       "      <td>Julie Chan AG</td>\n",
       "      <td>1</td>\n",
       "      <td>4253</td>\n",
       "      <td>4128.0</td>\n",
       "    </tr>\n",
       "  </tbody>\n",
       "</table>\n",
       "</div>"
      ],
      "text/plain": [
       "      FULL NAMES  DEPARTMENT  SALARY  DEPARTMENTAL BONUS       MANAGERS  ID  \\\n",
       "0  André Fonseca  Production    3500                 350     Felix Kern   1   \n",
       "1      Ann devon    Engineer    4003                 250  Ishmail Ahmed   2   \n",
       "\n",
       "   INVENTORY ID START DATE        COMPANY  EMP_ID  Total Income  \\\n",
       "0            10 1997-10-23  Julie Chan AG       0          3850   \n",
       "1            11 1997-11-05  Julie Chan AG       1          4253   \n",
       "\n",
       "   Average Income  \n",
       "0          3675.0  \n",
       "1          4128.0  "
      ]
     },
     "execution_count": 106,
     "metadata": {},
     "output_type": "execute_result"
    }
   ],
   "source": [
    "df.head(2)"
   ]
  },
  {
   "cell_type": "code",
   "execution_count": 118,
   "id": "ab1f35fa",
   "metadata": {},
   "outputs": [],
   "source": [
    "df=df.set_index('EMP_ID')"
   ]
  },
  {
   "cell_type": "code",
   "execution_count": 120,
   "id": "7383b52e",
   "metadata": {},
   "outputs": [
    {
     "data": {
      "text/html": [
       "<div>\n",
       "<style scoped>\n",
       "    .dataframe tbody tr th:only-of-type {\n",
       "        vertical-align: middle;\n",
       "    }\n",
       "\n",
       "    .dataframe tbody tr th {\n",
       "        vertical-align: top;\n",
       "    }\n",
       "\n",
       "    .dataframe thead th {\n",
       "        text-align: right;\n",
       "    }\n",
       "</style>\n",
       "<table border=\"1\" class=\"dataframe\">\n",
       "  <thead>\n",
       "    <tr style=\"text-align: right;\">\n",
       "      <th></th>\n",
       "      <th>FULL NAMES</th>\n",
       "      <th>DEPARTMENT</th>\n",
       "      <th>SALARY</th>\n",
       "      <th>DEPARTMENTAL BONUS</th>\n",
       "      <th>MANAGERS</th>\n",
       "      <th>ID</th>\n",
       "      <th>INVENTORY ID</th>\n",
       "      <th>START DATE</th>\n",
       "      <th>COMPANY</th>\n",
       "      <th>Total Income</th>\n",
       "      <th>Average Income</th>\n",
       "    </tr>\n",
       "    <tr>\n",
       "      <th>EMP_ID</th>\n",
       "      <th></th>\n",
       "      <th></th>\n",
       "      <th></th>\n",
       "      <th></th>\n",
       "      <th></th>\n",
       "      <th></th>\n",
       "      <th></th>\n",
       "      <th></th>\n",
       "      <th></th>\n",
       "      <th></th>\n",
       "      <th></th>\n",
       "    </tr>\n",
       "  </thead>\n",
       "  <tbody>\n",
       "    <tr>\n",
       "      <th>0</th>\n",
       "      <td>André Fonseca</td>\n",
       "      <td>Production</td>\n",
       "      <td>3500</td>\n",
       "      <td>350</td>\n",
       "      <td>Felix Kern</td>\n",
       "      <td>1</td>\n",
       "      <td>10</td>\n",
       "      <td>1997-10-23</td>\n",
       "      <td>Julie Chan AG</td>\n",
       "      <td>3850</td>\n",
       "      <td>3675.0</td>\n",
       "    </tr>\n",
       "    <tr>\n",
       "      <th>1</th>\n",
       "      <td>Ann devon</td>\n",
       "      <td>Engineer</td>\n",
       "      <td>4003</td>\n",
       "      <td>250</td>\n",
       "      <td>Ishmail Ahmed</td>\n",
       "      <td>2</td>\n",
       "      <td>11</td>\n",
       "      <td>1997-11-05</td>\n",
       "      <td>Julie Chan AG</td>\n",
       "      <td>4253</td>\n",
       "      <td>4128.0</td>\n",
       "    </tr>\n",
       "  </tbody>\n",
       "</table>\n",
       "</div>"
      ],
      "text/plain": [
       "           FULL NAMES  DEPARTMENT  SALARY  DEPARTMENTAL BONUS       MANAGERS  \\\n",
       "EMP_ID                                                                         \n",
       "0       André Fonseca  Production    3500                 350     Felix Kern   \n",
       "1           Ann devon    Engineer    4003                 250  Ishmail Ahmed   \n",
       "\n",
       "        ID  INVENTORY ID START DATE        COMPANY  Total Income  \\\n",
       "EMP_ID                                                             \n",
       "0        1            10 1997-10-23  Julie Chan AG          3850   \n",
       "1        2            11 1997-11-05  Julie Chan AG          4253   \n",
       "\n",
       "        Average Income  \n",
       "EMP_ID                  \n",
       "0               3675.0  \n",
       "1               4128.0  "
      ]
     },
     "execution_count": 120,
     "metadata": {},
     "output_type": "execute_result"
    }
   ],
   "source": [
    "df.head(2)"
   ]
  },
  {
   "cell_type": "code",
   "execution_count": 121,
   "id": "6db789b7",
   "metadata": {},
   "outputs": [],
   "source": [
    "#save this as a csv file\n",
    "df.to_csv('Data_csv')"
   ]
  },
  {
   "cell_type": "code",
   "execution_count": null,
   "id": "d4bb5fb4",
   "metadata": {},
   "outputs": [],
   "source": []
  }
 ],
 "metadata": {
  "kernelspec": {
   "display_name": "Python 3 (ipykernel)",
   "language": "python",
   "name": "python3"
  },
  "language_info": {
   "codemirror_mode": {
    "name": "ipython",
    "version": 3
   },
   "file_extension": ".py",
   "mimetype": "text/x-python",
   "name": "python",
   "nbconvert_exporter": "python",
   "pygments_lexer": "ipython3",
   "version": "3.9.12"
  }
 },
 "nbformat": 4,
 "nbformat_minor": 5
}
